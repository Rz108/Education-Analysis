{
 "cells": [
  {
   "cell_type": "code",
   "execution_count": 1,
   "metadata": {},
   "outputs": [],
   "source": [
    "import numpy as np\n",
    "import matplotlib.pyplot as plt\n",
    "import matplotlib.ticker as ticker\n",
    "from numpy.lib.recfunctions import append_fields\n",
    "from function import *\n",
    "plt.style.use('seaborn')"
   ]
  },
  {
   "cell_type": "code",
   "execution_count": 2,
   "metadata": {},
   "outputs": [],
   "source": [
    "#Import datasets\n",
    "scoreEng = np.genfromtxt('./datasets/ScoreVariationEng.csv',delimiter=',',skip_header=19,dtype=['U50']+['i8' if i%2 == 0 else 'U8' for i in range(17)],skip_footer=10)\n",
    "scoreMath = np.genfromtxt('./datasets/ScoreVariationMath.csv',delimiter=',',skip_header=19,dtype=['U50']+['i8' if i % 2== 0 else 'U8' for i in range(17)],skip_footer=10)"
   ]
  },
  {
   "cell_type": "markdown",
   "metadata": {},
   "source": [
    "# Data Analysis"
   ]
  },
  {
   "cell_type": "code",
   "execution_count": 3,
   "metadata": {},
   "outputs": [],
   "source": [
    "#Nature of data and data analysis\n",
    "def data(j):\n",
    "    print(f'\\nThe names of the columns are:')\n",
    "    functionNeed.columnInArr(j.dtype.names,j)\n",
    "    functionNeed.uniqueValues(j.dtype.names,j)\n",
    "    functionNeed.characteristics(j['f1'])\n"
   ]
  },
  {
   "cell_type": "code",
   "execution_count": 4,
   "metadata": {},
   "outputs": [
    {
     "name": "stdout",
     "output_type": "stream",
     "text": [
      "\n",
      "The names of the columns are:\n",
      "- f0 <class 'numpy.dtype[str_]'> isnumeric: False, null values: False \n",
      "- f1 <class 'numpy.dtype[int64]'> isnumeric: True, null values: False \n",
      "- f2 <class 'numpy.dtype[str_]'> isnumeric: False, null values: False \n",
      "- f3 <class 'numpy.dtype[int64]'> isnumeric: True, null values: False \n",
      "- f4 <class 'numpy.dtype[str_]'> isnumeric: False, null values: False \n",
      "- f5 <class 'numpy.dtype[int64]'> isnumeric: True, null values: False \n",
      "- f6 <class 'numpy.dtype[str_]'> isnumeric: False, null values: False \n",
      "- f7 <class 'numpy.dtype[int64]'> isnumeric: True, null values: False \n",
      "- f8 <class 'numpy.dtype[str_]'> isnumeric: False, null values: False \n",
      "- f9 <class 'numpy.dtype[int64]'> isnumeric: True, null values: False \n",
      "- f10 <class 'numpy.dtype[str_]'> isnumeric: False, null values: False \n",
      "- f11 <class 'numpy.dtype[int64]'> isnumeric: True, null values: False \n",
      "- f12 <class 'numpy.dtype[str_]'> isnumeric: False, null values: False \n",
      "- f13 <class 'numpy.dtype[int64]'> isnumeric: True, null values: False \n",
      "- f14 <class 'numpy.dtype[str_]'> isnumeric: False, null values: False \n",
      "- f15 <class 'numpy.dtype[int64]'> isnumeric: True, null values: False \n",
      "- f16 <class 'numpy.dtype[str_]'> isnumeric: False, null values: False \n",
      "- f17 <class 'numpy.dtype[int64]'> isnumeric: True, null values: False \n",
      "\n",
      "The unique values of each column are:\n",
      "80 unique values in f0\n",
      "61 unique values in f1\n",
      "34 unique values in f2\n",
      "35 unique values in f3\n",
      "19 unique values in f4\n",
      "62 unique values in f5\n",
      "41 unique values in f6\n",
      "57 unique values in f7\n",
      "40 unique values in f8\n",
      "69 unique values in f9\n",
      "34 unique values in f10\n",
      "61 unique values in f11\n",
      "32 unique values in f12\n",
      "62 unique values in f13\n",
      "36 unique values in f14\n",
      "62 unique values in f15\n",
      "37 unique values in f16\n",
      "63 unique values in f17\n",
      "The number of elements is:              80\n",
      "The min is:              -1\n",
      "The max is:             555\n",
      "The mean is:          442.88\n",
      "The variance is:         7749.23\n",
      "The median is         468.000\n",
      "The standard deviation is:          88.030\n",
      "The lower quartile is         407.750\n",
      "The upper quartile is         495.750\n",
      "\n"
     ]
    }
   ],
   "source": [
    "data(scoreEng)"
   ]
  },
  {
   "cell_type": "code",
   "execution_count": 5,
   "metadata": {},
   "outputs": [
    {
     "name": "stdout",
     "output_type": "stream",
     "text": [
      "\n",
      "The names of the columns are:\n",
      "- f0 <class 'numpy.dtype[str_]'> isnumeric: False, null values: False \n",
      "- f1 <class 'numpy.dtype[int64]'> isnumeric: True, null values: False \n",
      "- f2 <class 'numpy.dtype[str_]'> isnumeric: False, null values: False \n",
      "- f3 <class 'numpy.dtype[int64]'> isnumeric: True, null values: False \n",
      "- f4 <class 'numpy.dtype[str_]'> isnumeric: False, null values: False \n",
      "- f5 <class 'numpy.dtype[int64]'> isnumeric: True, null values: False \n",
      "- f6 <class 'numpy.dtype[str_]'> isnumeric: False, null values: False \n",
      "- f7 <class 'numpy.dtype[int64]'> isnumeric: True, null values: False \n",
      "- f8 <class 'numpy.dtype[str_]'> isnumeric: False, null values: False \n",
      "- f9 <class 'numpy.dtype[int64]'> isnumeric: True, null values: False \n",
      "- f10 <class 'numpy.dtype[str_]'> isnumeric: False, null values: False \n",
      "- f11 <class 'numpy.dtype[int64]'> isnumeric: True, null values: False \n",
      "- f12 <class 'numpy.dtype[str_]'> isnumeric: False, null values: False \n",
      "- f13 <class 'numpy.dtype[int64]'> isnumeric: True, null values: False \n",
      "- f14 <class 'numpy.dtype[str_]'> isnumeric: False, null values: False \n",
      "- f15 <class 'numpy.dtype[int64]'> isnumeric: True, null values: False \n",
      "- f16 <class 'numpy.dtype[str_]'> isnumeric: False, null values: False \n",
      "- f17 <class 'numpy.dtype[int64]'> isnumeric: True, null values: False \n",
      "\n",
      "The unique values of each column are:\n",
      "81 unique values in f0\n",
      "66 unique values in f1\n",
      "30 unique values in f2\n",
      "30 unique values in f3\n",
      "17 unique values in f4\n",
      "63 unique values in f5\n",
      "29 unique values in f6\n",
      "65 unique values in f7\n",
      "30 unique values in f8\n",
      "68 unique values in f9\n",
      "33 unique values in f10\n",
      "67 unique values in f11\n",
      "30 unique values in f12\n",
      "68 unique values in f13\n",
      "32 unique values in f14\n",
      "66 unique values in f15\n",
      "36 unique values in f16\n",
      "70 unique values in f17\n",
      "The number of elements is:              81\n",
      "The min is:              -1\n",
      "The max is:             591\n",
      "The mean is:          453.57\n",
      "The variance is:         5621.43\n",
      "The median is         472.000\n",
      "The standard deviation is:          74.976\n",
      "The lower quartile is         417.000\n",
      "The upper quartile is         500.000\n",
      "\n"
     ]
    }
   ],
   "source": [
    "data(scoreMath)"
   ]
  },
  {
   "cell_type": "code",
   "execution_count": 6,
   "metadata": {},
   "outputs": [],
   "source": [
    "#Filter out the countires\n",
    "filters = (scoreEng['f0'] == 'Singapore')\n",
    "filters2 = (scoreEng['f0'] == 'United Kingdom')\n",
    "SgE = scoreEng[filters]\n",
    "UkE = scoreEng[filters2]"
   ]
  },
  {
   "cell_type": "code",
   "execution_count": 7,
   "metadata": {},
   "outputs": [],
   "source": [
    "filters = (scoreMath['f0'] == 'Singapore')\n",
    "filters2 = (scoreMath['f0'] == 'United Kingdom')\n",
    "SgM = scoreMath[filters]\n",
    "UkM = scoreMath[filters2]"
   ]
  },
  {
   "cell_type": "code",
   "execution_count": 8,
   "metadata": {},
   "outputs": [
    {
     "data": {
      "text/plain": [
       "8"
      ]
     },
     "execution_count": 8,
     "metadata": {},
     "output_type": "execute_result"
    }
   ],
   "source": [
    "# Mean\\\n",
    "%matplotlib qt\n",
    "facecolor = '#EAEA1A'\n",
    "color_bars = '#3475D0'\n",
    "txt_color1 = '#252525'\n",
    "txt_color2 = '#004C74'\n",
    "np.random.seed(19680801)\n",
    "\n",
    "engMeanScore = [i for i in scoreEng['f1'] if i >0]\n",
    "engMeanScore.sort()\n",
    "mathMeanScore = [i for i in scoreMath['f1'] if i > 0]\n",
    "fig, ax = plt.subplots(2, figsize=(16,6),facecolor='lightblue')\n",
    "font1 = {'family':'serif','color':'blue','size':35}\n",
    "font2 = {'family':'serif','color':'darkred','size':15}\n",
    "fig.suptitle('PISA SCORE',fontdict = font1,fontweight = 100)\n",
    "n, bins, patches = ax[0].hist(engMeanScore,bins=10)\n",
    "sg = ax[0].hist(SgE['f1'],color='r',bins=1,density=True, histtype='barstacked')\n",
    "uk = ax[0].hist(UkE['f1'],color='b',bins=1,density=True, histtype='barstacked')\n",
    "ax[0].annotate(\"Singapore\",\n",
    "            xy=(SgE['f1'], 0), xycoords='data',\n",
    "            xytext=(SgE['f1'], 8), textcoords='data',\n",
    "            arrowprops=dict(facecolor='black', shrink=0.05),\n",
    "            )\n",
    "ax[0].annotate(\"UK\",\n",
    "            xy=(UkE['f1'], 0), xycoords='data',\n",
    "            xytext=(UkE['f1'], 8), textcoords='data',\n",
    "            arrowprops=dict(facecolor='black', shrink=0.05)\n",
    "            )\n",
    "ax[0].set_title('English Score')\n",
    "bin_centers = np.diff(bins)*0.5 + bins[:-1]\n",
    "buttons = ax[1]\n",
    "buttons.set_facecolor('lightblue')\n",
    "param_x1 = [0.2]\n",
    "param_y1 = [0.6]\n",
    "OptionButton = [buttons.plot([0.2, 0.8],np.full((2, 1), param_y1[0]),linewidth=40,solid_capstyle='round',color=(0, 0, 0, 0.05),label='Show Math')]\n",
    "optionMarkers = [buttons.plot(param_x1[0],param_y1[0],label='Show Math',marker='o',color='b',linestyle='None')]\n",
    "j = 0\n",
    "for fr, x, patch in zip(n, bin_centers, patches):\n",
    "    height = int(n[j])\n",
    "    ax[0].annotate(\"{}\".format(height),\n",
    "               xy = (x, height),            \n",
    "               xytext = (0,0.2),            \n",
    "               textcoords = \"offset points\", \n",
    "               ha = 'center', va = 'bottom'\n",
    "               )\n",
    "    j+=1\n",
    "buttons.text(param_x1[0] + 0.08, param_y1[0],'Show maths',verticalalignment='center',label='Show maths')\n",
    "buttons.set_xticks([])\n",
    "buttons.set_yticks([])\n",
    "buttons.set_xlim(0, 1)\n",
    "buttons.set_ylim(0, 1)\n",
    "\n",
    "buttons.set_title(\"Option for Math\")\n",
    "paramsData = {\"Show Math\": False}\n",
    "def containsPoint(line, x, y):\n",
    "    point_1, point_2 = line.get_xydata()\n",
    "    if point_1[1]-0.1 <= y and y <= point_2[1] + 0.1:\n",
    "        if point_1[0] <= x and x <= point_2[0]:\n",
    "            return True\n",
    "    return False\n",
    "def update(catSg,catUk,catname,catMean,color):\n",
    "        ax[0].clear()\n",
    "        ax[0].set_title(f'{catname} Score')\n",
    "        n, bins, patches = ax[0].hist(catMean,bins=10)\n",
    "        bin_centers = np.diff(bins)*0.5 + bins[:-1]\n",
    "        sg = ax[0].hist(catSg['f1'],color='r',bins=1)\n",
    "        uk = ax[0].hist(catUk['f1'],color='b',bins=1)\n",
    "        j = 0\n",
    "        for fr, x, patch in zip(n, bin_centers, patches):\n",
    "            height = int(n[j])\n",
    "            ax[0].annotate(\"{}\".format(height),\n",
    "                    xy = (x, height),            \n",
    "                    xytext = (0,0.2),            \n",
    "                    textcoords = \"offset points\", \n",
    "                    ha = 'center', va = 'bottom'\n",
    "                    )\n",
    "            j+=1         \n",
    "            optionMarkers = [buttons.plot(param_x1[0],param_y1[0],label='Show Math',marker='o',color=color,linestyle='None')]\n",
    "        ax[0].annotate(\"Singapore\",\n",
    "    xy=(catSg['f1'], 0), xycoords='data',\n",
    "    xytext=(catSg['f1'], 8), textcoords='data',\n",
    "    arrowprops=dict(facecolor='black', shrink=0.05),\n",
    "    )\n",
    "        ax[0].annotate(\"UK\",\n",
    "                    xy=(catUk['f1'], 0), xycoords='data',\n",
    "                    xytext=(catUk['f1'], 8), textcoords='data',\n",
    "                    arrowprops=dict(facecolor='black', shrink=0.05)\n",
    "                    )\n",
    "        plt.draw()\n",
    "        plt.show()\n",
    "def onclick(event):\n",
    "    global optionMarkers\n",
    "    if (event.inaxes == buttons):\n",
    "        clicker = OptionButton[0][0]\n",
    "        if (containsPoint(clicker, event.xdata, event.ydata)):\n",
    "            paramsData[clicker.get_label(\n",
    "            )] = not paramsData[clicker.get_label()]\n",
    "        c = 0\n",
    "        \n",
    "        marker = optionMarkers[0][0]\n",
    "        if (paramsData[marker.get_label()]):\n",
    "            if (marker.get_label() == 'Show Math'):\n",
    "                update(SgM,UkM,'Math',mathMeanScore,'g')\n",
    "        else:\n",
    "            if (marker.get_label() == 'Show Math'):\n",
    "                update(SgE,UkE,'English',engMeanScore,'b')\n",
    "  \n",
    "fig.canvas.mpl_connect('button_press_event', onclick)"
   ]
  },
  {
   "cell_type": "code",
   "execution_count": null,
   "metadata": {},
   "outputs": [],
   "source": []
  },
  {
   "cell_type": "code",
   "execution_count": null,
   "metadata": {},
   "outputs": [],
   "source": []
  },
  {
   "cell_type": "code",
   "execution_count": null,
   "metadata": {},
   "outputs": [],
   "source": []
  },
  {
   "cell_type": "code",
   "execution_count": null,
   "metadata": {},
   "outputs": [],
   "source": []
  },
  {
   "cell_type": "code",
   "execution_count": null,
   "metadata": {},
   "outputs": [],
   "source": []
  },
  {
   "cell_type": "code",
   "execution_count": null,
   "metadata": {},
   "outputs": [],
   "source": []
  },
  {
   "cell_type": "code",
   "execution_count": null,
   "metadata": {},
   "outputs": [],
   "source": []
  },
  {
   "cell_type": "code",
   "execution_count": null,
   "metadata": {},
   "outputs": [],
   "source": []
  },
  {
   "cell_type": "code",
   "execution_count": null,
   "metadata": {},
   "outputs": [],
   "source": []
  },
  {
   "cell_type": "code",
   "execution_count": null,
   "metadata": {},
   "outputs": [],
   "source": []
  },
  {
   "cell_type": "code",
   "execution_count": null,
   "metadata": {},
   "outputs": [],
   "source": []
  },
  {
   "cell_type": "code",
   "execution_count": null,
   "metadata": {},
   "outputs": [],
   "source": []
  },
  {
   "cell_type": "code",
   "execution_count": null,
   "metadata": {},
   "outputs": [],
   "source": []
  },
  {
   "cell_type": "code",
   "execution_count": null,
   "metadata": {},
   "outputs": [],
   "source": []
  },
  {
   "cell_type": "code",
   "execution_count": null,
   "metadata": {},
   "outputs": [],
   "source": []
  },
  {
   "cell_type": "code",
   "execution_count": null,
   "metadata": {},
   "outputs": [],
   "source": []
  },
  {
   "cell_type": "code",
   "execution_count": null,
   "metadata": {},
   "outputs": [],
   "source": []
  },
  {
   "cell_type": "code",
   "execution_count": null,
   "metadata": {},
   "outputs": [],
   "source": []
  },
  {
   "cell_type": "code",
   "execution_count": null,
   "metadata": {},
   "outputs": [],
   "source": []
  }
 ],
 "metadata": {
  "kernelspec": {
   "display_name": "Python 3 (ipykernel)",
   "language": "python",
   "name": "python3"
  },
  "language_info": {
   "codemirror_mode": {
    "name": "ipython",
    "version": 3
   },
   "file_extension": ".py",
   "mimetype": "text/x-python",
   "name": "python",
   "nbconvert_exporter": "python",
   "pygments_lexer": "ipython3",
   "version": "3.9.12"
  },
  "vscode": {
   "interpreter": {
    "hash": "c9accf97e1b8fe0a78f1f3e4cd5f9adf6f9b369b383b94ed6f1b81b8f91e9eea"
   }
  }
 },
 "nbformat": 4,
 "nbformat_minor": 2
}
