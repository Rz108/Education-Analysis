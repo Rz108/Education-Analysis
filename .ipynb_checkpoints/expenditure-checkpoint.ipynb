{
 "cells": [
  {
   "cell_type": "code",
   "execution_count": 1,
   "metadata": {},
   "outputs": [],
   "source": [
    "import numpy as np\n",
    "import matplotlib.pyplot as plt\n",
    "import matplotlib.ticker as ticker\n",
    "from numpy.lib.recfunctions import append_fields\n",
    "from function import functionNeed\n",
    "plt.style.use('seaborn')"
   ]
  },
  {
   "cell_type": "code",
   "execution_count": 2,
   "metadata": {},
   "outputs": [],
   "source": [
    "expenditureSG = np.genfromtxt('./datasets/Expenditure(SG).csv',delimiter=',',names=True,dtype=['i8','U50','i8'])\n",
    "expenditureUK = np.genfromtxt('./datasets/Expenditure(UK).csv',delimiter=',',names=True,usecols=(0,1,2,3,4,5,6,7),dtype=['U50','U8','U8','U8','U50','U8','U8','f8'])"
   ]
  },
  {
   "cell_type": "code",
   "execution_count": 3,
   "metadata": {},
   "outputs": [],
   "source": [
    "#Filter out the years required which is more than 2015 and before 2021\n",
    "filter1 = (expenditureSG['type_of_educational_institutions'] != 'Others') & (expenditureSG['type_of_educational_institutions'] != 'total') & ((expenditureSG['year']) >= 2015)\n",
    "expenditureSG = expenditureSG[filter1]\n",
    "filter2 = (expenditureUK['time_period'] != '2020-21') & (expenditureUK['education_function'] !='total')\n",
    "expenditureUK = expenditureUK[filter2]"
   ]
  },
  {
   "cell_type": "markdown",
   "metadata": {},
   "source": [
    "# Data Analysis "
   ]
  },
  {
   "cell_type": "code",
   "execution_count": 4,
   "metadata": {},
   "outputs": [],
   "source": [
    "def data(j,x):\n",
    "    print(f'\\nThe names of the columns are:')\n",
    "    functionNeed.columnInArr(j.dtype.names,j)\n",
    "    functionNeed.uniqueValues(j.dtype.names,j)\n",
    "    functionNeed.characteristics(j[x])\n"
   ]
  },
  {
   "cell_type": "code",
   "execution_count": 5,
   "metadata": {},
   "outputs": [
    {
     "name": "stdout",
     "output_type": "stream",
     "text": [
      "\n",
      "The names of the columns are:\n",
      "- year <class 'numpy.dtype[int64]'> isnumeric: True, null values: False \n",
      "- type_of_educational_institutions <class 'numpy.dtype[str_]'> isnumeric: False, null values: False \n",
      "- recurrent_expenditure <class 'numpy.dtype[int64]'> isnumeric: True, null values: False \n",
      "\n",
      "The unique values of each column are:\n",
      "5 unique values in year\n",
      "6 unique values in type_of_educational_institutions\n",
      "30 unique values in recurrent_expenditure\n",
      "The number of elements is:              30\n",
      "The min is:          376956\n",
      "The max is:         3243605\n",
      "The mean is:      1769797.00\n",
      "The variance is: 1212919897580.60\n",
      "The median is     1904286.500\n",
      "The standard deviation is:     1101326.426\n",
      "The lower quartile is      470299.000\n",
      "The upper quartile is     2782988.500\n",
      "\n"
     ]
    }
   ],
   "source": [
    "#For singapore\n",
    "data(expenditureSG,'recurrent_expenditure')\n"
   ]
  },
  {
   "cell_type": "code",
   "execution_count": 6,
   "metadata": {},
   "outputs": [
    {
     "name": "stdout",
     "output_type": "stream",
     "text": [
      "\n",
      "The names of the columns are:\n",
      "- ï»¿location <class 'numpy.dtype[str_]'> isnumeric: False, null values: False \n",
      "- location_code <class 'numpy.dtype[str_]'> isnumeric: False, null values: False \n",
      "- geographic_level <class 'numpy.dtype[str_]'> isnumeric: False, null values: False \n",
      "- time_period <class 'numpy.dtype[str_]'> isnumeric: False, null values: False \n",
      "- education_function <class 'numpy.dtype[str_]'> isnumeric: False, null values: False \n",
      "- expenditure_level <class 'numpy.dtype[str_]'> isnumeric: False, null values: False \n",
      "- expenditure_type <class 'numpy.dtype[str_]'> isnumeric: False, null values: False \n",
      "- t_expenditure_millions <class 'numpy.dtype[float64]'> isnumeric: False, null values: False \n",
      "\n",
      "The unique values of each column are:\n",
      "1 unique values in ï»¿location\n",
      "1 unique values in location_code\n",
      "1 unique values in geographic_level\n",
      "5 unique values in time_period\n",
      "4 unique values in education_function\n",
      "1 unique values in expenditure_level\n",
      "1 unique values in expenditure_type\n",
      "20 unique values in t_expenditure_millions\n",
      "The number of elements is:              20\n",
      "The min is:        4372.117\n",
      "The max is:       89657.536\n",
      "The mean is:        40038.61\n",
      "The variance is:    874917850.56\n",
      "The median is       33514.157\n",
      "The standard deviation is:       29579.010\n",
      "The lower quartile is       21520.902\n",
      "The upper quartile is       54840.526\n",
      "\n"
     ]
    }
   ],
   "source": [
    "#For UK\n",
    "data(expenditureUK,'t_expenditure_millions')"
   ]
  },
  {
   "cell_type": "code",
   "execution_count": 7,
   "metadata": {},
   "outputs": [],
   "source": [
    "#Filter of datasets by education level\n",
    "years = np.array([set(expenditureSG['year'])])\n",
    "primary_school = expenditureSG[expenditureSG['type_of_educational_institutions'] == 'Primary Schools']['recurrent_expenditure']\n",
    "secondary_school = expenditureSG[expenditureSG['type_of_educational_institutions'] == 'Secondary Schools']['recurrent_expenditure']\n",
    "Junior_college = expenditureSG[expenditureSG['type_of_educational_institutions'] == 'Junior Colleges / Centralised Institute']['recurrent_expenditure']\n",
    "ite = expenditureSG[expenditureSG['type_of_educational_institutions'] == 'Institute of Technical Education']['recurrent_expenditure']\n",
    "poly = expenditureSG[expenditureSG['type_of_educational_institutions'] == 'Polytechnics']['recurrent_expenditure']\n",
    "uni = expenditureSG[expenditureSG['type_of_educational_institutions'] == 'Universities']['recurrent_expenditure']\n",
    "total_expenditure = [np.sum(x) for x in  zip(primary_school,secondary_school,Junior_college,ite,poly,uni)]"
   ]
  },
  {
   "cell_type": "code",
   "execution_count": 8,
   "metadata": {},
   "outputs": [],
   "source": [
    "#Filterof UK dataset by education level\n",
    "primary_schoolUK = expenditureUK[(expenditureUK['education_function'] == 'Primary education') ]['t_expenditure_millions']*1000\n",
    "secondary_schoolUK = expenditureUK[(expenditureUK['education_function'] == 'Secondary education') ]['t_expenditure_millions']*1000\n",
    "tertiraryUK = expenditureUK[(expenditureUK['education_function'] == 'Tertiary education') ]['t_expenditure_millions']*1000\n",
    "total_expenditureUK = [np.sum(x) for x in  zip(primary_schoolUK,secondary_schoolUK,tertiraryUK)]"
   ]
  },
  {
   "cell_type": "code",
   "execution_count": 9,
   "metadata": {},
   "outputs": [],
   "source": [
    "%matplotlib qt\n",
    "fig,ax = plt.subplots(3,2,figsize=(15,20))\n",
    "fig.suptitle('Spending comparison between UK and SG',fontsize=30,color='Navy')\n",
    "#Converting it to a list\n",
    "bar1UK = np.add(primary_schoolUK,secondary_schoolUK).tolist()\n",
    "years = [str(i) for i in range(2015,2020)]\n",
    "stack = ax[0,0]\n",
    "#Combing uni,poly ite toegeter as tertiary\n",
    "#Creatubg a stack plot\n",
    "stack.stackplot(years,[primary_school,secondary_school,[(a+b+j+k) for a,b,j,k in zip(ite,uni,poly,Junior_college)]])\n",
    "\n",
    "stack.plot(years,total_expenditure,color='r')\n",
    "stack.set_title('Proportion of speding base on level in SG')\n",
    "ax[0,1].stackplot(years,[primary_schoolUK,secondary_schoolUK,tertiraryUK])\n",
    "ax[0,1].plot(years,total_expenditureUK,color='r')\n",
    "ax[0,1].set_title('Proportion of speding base on level in UK')\n",
    "#Remove the spines\n",
    "for i in range(2):\n",
    "\tax[0,i].spines['bottom'].set_visible(False)\n",
    "\tax[0,i].spines['left'].set_visible(False)\n",
    "\tax[0,i].spines['right'].set_visible(False)\n",
    "\tax[0,i].spines['top'].set_visible(False)\n",
    "#Creating the pie chart\n",
    "piechart1 = ax[1,0]\n",
    "labels = ['primary_school','secondary_school','tertiary']\n",
    "wedges,_ = piechart1.pie([np.mean(primary_school),np.mean(secondary_school),np.mean(ite)+np.mean(Junior_college)+np.mean(poly)+np.mean(uni)],\twedgeprops = {\n",
    "\t\t'linewidth': 3\n",
    "\t},labels = labels)\n",
    "piechart1.text(-0.40,-0.0,'expenditure')\n",
    "#Creating the donut space\n",
    "donut, _= piechart1.pie(primary_school,colors = ['white'],radius=0.5)\n",
    "#Creating the second pie chart\n",
    "piechart2 = ax[1,1]\n",
    "wedges1,_1 = piechart2.pie([np.mean(primary_schoolUK),np.mean(secondary_schoolUK),np.mean(tertiraryUK)],\twedgeprops = {\n",
    "\t\t'linewidth': 3\n",
    "\t},labels = labels)\n",
    "\n",
    "piechart2.text(-0.40,-0.0,'expenditure')\n",
    "donut2, _2= piechart2.pie(primary_school,colors = ['white'],radius=0.5)\n",
    "piechart1.set_title('Proportion of mean amount of money spent on each level')\n",
    "piechart2.set_title('Proportion of mean amount of money spent on each level')\n",
    "#Providing click functions\n",
    "box = ax[2,0]\n",
    "box2 = ax[2,1]\n",
    "box.set_visible(False)\n",
    "box2.set_visible(False)\n",
    "def onclick(event):\n",
    "\t#Creating the click function for interactivity\n",
    "\tif event.inaxes == piechart1:\n",
    "\t\tfor i, wedge in enumerate(wedges):\n",
    "\t\t\tif (wedge.contains_point([event.x, event.y])):\n",
    "\t\t\t\t# fig,ax = plt.subplots()\n",
    "\t\t\t\tif wedge.get_label() == 'tertiary':\n",
    "\n",
    "\t\t\t\t\tbox.clear()\n",
    "\t\t\t\t\tbox.set_title(f'{wedge.get_label()} spending from 2015 to 2019')\n",
    "\t\t\t\t\tbox.plot(years,[(a+b+j+k) for a,b,j,k in zip(ite,uni,poly,Junior_college)])\n",
    "\t\t\t\t\tbox.set_visible(True)\n",
    "\t\t\t\t\tbox.set_ylim(bottom=0)\n",
    "\t\t\t\t\tplt.draw()\n",
    "\n",
    "\t\t\t\telif wedge.get_label() == 'primary_school':\n",
    "\n",
    "\t\t\t\t\tbox.clear()\n",
    "\t\t\t\t\tbox.set_title(f'{wedge.get_label()} spending from 2015 to 2019')\n",
    "\t\t\t\t\tbox.plot(years,primary_school)\n",
    "\t\t\t\t\tbox.set_visible(True)\n",
    "\t\t\t\t\tbox.set_ylim(bottom=0)\n",
    "\t\t\t\t\tplt.draw()\n",
    "\t\t\t\telif wedge.get_label() == 'secondary_school':\n",
    "\t\t\t\t\tbox.clear()\n",
    "\t\t\t\t\tbox.set_title(f'{wedge.get_label()} spending from 2015 to 2019')\n",
    "\t\t\t\t\tbox.plot(years,secondary_school)\n",
    "\t\t\t\t\tbox.set_visible(True)\n",
    "\t\t\t\t\tbox.set_ylim(bottom=0)\n",
    "\t\t\t\t\tplt.draw()\n",
    "\telif event.inaxes == piechart2:\n",
    "\t\tfor i, wedge in enumerate(wedges1):\n",
    "\t\t\tif (wedge.contains_point([event.x, event.y])):\n",
    "\t\t\t\tif wedge.get_label() == 'tertiary':\n",
    "\t\t\t\t\tbox2.clear()\n",
    "\t\t\t\t\tbox2.set_title(f'{wedge.get_label()} spending from 2015 to 2019')\n",
    "\t\t\t\t\tbox2.plot(years,tertiraryUK)\n",
    "\t\t\t\t\tbox2.set_visible(True)\n",
    "\t\t\t\t\tbox2.set_ylim(bottom=0)\n",
    "\t\t\t\t\tplt.draw()\n",
    "\n",
    "\t\t\t\telif wedge.get_label() == 'primary_school':\n",
    "\t\t\t\t\tbox2.clear()\n",
    "\t\t\t\t\tbox2.set_title(f'{wedge.get_label()} spending from 2015 to 2019')\n",
    "\t\t\t\t\tbox2.plot(years,primary_schoolUK)\n",
    "\t\t\t\t\tbox2.set_visible(True)\n",
    "\t\t\t\t\tbox2.set_ylim(bottom=0)\n",
    "\t\t\t\t\tplt.draw()\n",
    "\t\t\t\telif wedge.get_label() == 'secondary_school':\n",
    "\t\t\t\t\tbox2.clear()\n",
    "\t\t\t\t\tbox2.set_title(f'{wedge.get_label()} spending from 2015 to 2019')\n",
    "\t\t\t\t\tbox2.plot(years,secondary_schoolUK)\n",
    "\t\t\t\t\tbox2.set_visible(True)\n",
    "\t\t\t\t\tbox2.set_ylim(bottom=0)\n",
    "\t\t\t\t\tplt.draw()\n",
    "cid = fig.canvas.mpl_connect('button_press_event', onclick)\n",
    "plt.show()\n"
   ]
  }
 ],
 "metadata": {
  "kernelspec": {
   "display_name": "Python 3 (ipykernel)",
   "language": "python",
   "name": "python3"
  },
  "language_info": {
   "codemirror_mode": {
    "name": "ipython",
    "version": 3
   },
   "file_extension": ".py",
   "mimetype": "text/x-python",
   "name": "python",
   "nbconvert_exporter": "python",
   "pygments_lexer": "ipython3",
   "version": "3.9.12"
  },
  "vscode": {
   "interpreter": {
    "hash": "c9accf97e1b8fe0a78f1f3e4cd5f9adf6f9b369b383b94ed6f1b81b8f91e9eea"
   }
  }
 },
 "nbformat": 4,
 "nbformat_minor": 2
}
